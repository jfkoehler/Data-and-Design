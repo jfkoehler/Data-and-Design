{
 "cells": [
  {
   "cell_type": "markdown",
   "metadata": {},
   "source": [
    "# Assignment on Stop Question and Frisk\n",
    "\n",
    "Using the stop question and frisk data, I want you to use visualizations to answer 5 questions about the data.  You should use a different visualization for each problem, one of the visualizations should use a widget, and another should include a map.\n",
    "\n",
    "Here are possible examples:\n",
    "\n",
    "- Bar plot of stops by race\n",
    "- Bar plot of stops by borough\n",
    "- Bar plot of stop reason by race\n",
    "- Boxplot of age distributions by borough\n",
    "- Interactive selector for borough\n",
    "- Interactive slider for month\n",
    "- Join many years and make slider across years or months\n",
    "- Map of stops based on neighborhood in selector\n",
    "\n",
    "\n",
    "\n"
   ]
  }
 ],
 "metadata": {
  "kernelspec": {
   "display_name": "Python 3",
   "language": "python",
   "name": "python3"
  },
  "language_info": {
   "codemirror_mode": {
    "name": "ipython",
    "version": 3
   },
   "file_extension": ".py",
   "mimetype": "text/x-python",
   "name": "python",
   "nbconvert_exporter": "python",
   "pygments_lexer": "ipython3",
   "version": "3.8.3"
  },
  "widgets": {
   "application/vnd.jupyter.widget-state+json": {
    "state": {},
    "version_major": 2,
    "version_minor": 0
   }
  }
 },
 "nbformat": 4,
 "nbformat_minor": 4
}
