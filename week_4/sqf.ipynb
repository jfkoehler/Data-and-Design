{
 "cells": [
  {
   "cell_type": "code",
   "execution_count": 1,
   "metadata": {},
   "outputs": [],
   "source": [
    "%matplotlib inline\n",
    "import matplotlib.pyplot as plt\n",
    "import pandas as pd\n",
    "import numpy as np\n",
    "import seaborn as sns\n",
    "import folium"
   ]
  },
  {
   "cell_type": "markdown",
   "metadata": {},
   "source": [
    "# Stop Question and Frisk\n",
    "\n",
    "<center>\n",
    "    <img src = https://thehill.com/sites/default/files/styles/thumb_small_article/public/bloomberg_mike.jpg?itok=E7KLwMl1 />\n",
    "    </center>"
   ]
  },
  {
   "cell_type": "markdown",
   "metadata": {},
   "source": [
    "### Data\n",
    "\n",
    "<center>\n",
    "    <img src = sqf_home.png />\n",
    "    </center>"
   ]
  },
  {
   "cell_type": "markdown",
   "metadata": {},
   "source": [
    "https://www1.nyc.gov/site/nypd/stats/reports-analysis/stopfrisk.page"
   ]
  },
  {
   "cell_type": "markdown",
   "metadata": {},
   "source": [
    "### Goal: Ask and Answer Questions"
   ]
  },
  {
   "cell_type": "code",
   "execution_count": 34,
   "metadata": {},
   "outputs": [],
   "source": [
    "#!pip install stateplane"
   ]
  },
  {
   "cell_type": "code",
   "execution_count": 35,
   "metadata": {},
   "outputs": [],
   "source": [
    "import stateplane"
   ]
  },
  {
   "cell_type": "code",
   "execution_count": 36,
   "metadata": {},
   "outputs": [],
   "source": [
    "sqf = pd.read_excel('sqf-2019.xlsx')"
   ]
  },
  {
   "cell_type": "code",
   "execution_count": 43,
   "metadata": {},
   "outputs": [
    {
     "ename": "TypeError",
     "evalue": "can only concatenate str (not \"int\") to str",
     "output_type": "error",
     "traceback": [
      "\u001b[0;31m---------------------------------------------------------------------------\u001b[0m",
      "\u001b[0;31mTypeError\u001b[0m                                 Traceback (most recent call last)",
      "\u001b[0;32m<ipython-input-43-36cba4e49093>\u001b[0m in \u001b[0;36m<module>\u001b[0;34m\u001b[0m\n\u001b[0;32m----> 1\u001b[0;31m \u001b[0mstateplane\u001b[0m\u001b[0;34m.\u001b[0m\u001b[0mto_latlon\u001b[0m\u001b[0;34m(\u001b[0m\u001b[0measting\u001b[0m \u001b[0;34m=\u001b[0m \u001b[0msqf\u001b[0m\u001b[0;34m[\u001b[0m\u001b[0;34m'STOP_LOCATION_X'\u001b[0m\u001b[0;34m]\u001b[0m\u001b[0;34m[\u001b[0m\u001b[0;36m0\u001b[0m\u001b[0;34m]\u001b[0m\u001b[0;34m,\u001b[0m \u001b[0mnorthing\u001b[0m\u001b[0;34m=\u001b[0m\u001b[0msqf\u001b[0m\u001b[0;34m[\u001b[0m\u001b[0;34m'STOP_LOCATION_Y'\u001b[0m\u001b[0;34m]\u001b[0m\u001b[0;34m[\u001b[0m\u001b[0;36m0\u001b[0m\u001b[0;34m]\u001b[0m\u001b[0;34m,\u001b[0m\u001b[0mepsg\u001b[0m\u001b[0;34m=\u001b[0m\u001b[0;36m4326\u001b[0m\u001b[0;34m)\u001b[0m\u001b[0;34m\u001b[0m\u001b[0;34m\u001b[0m\u001b[0m\n\u001b[0m",
      "\u001b[0;32m~/opt/anaconda3/envs/for_ds/lib/python3.8/site-packages/stateplane/stateplane.py\u001b[0m in \u001b[0;36mto_latlon\u001b[0;34m(self, easting, northing, epsg, fips, abbr)\u001b[0m\n\u001b[1;32m    143\u001b[0m \u001b[0;34m\u001b[0m\u001b[0m\n\u001b[1;32m    144\u001b[0m     \u001b[0;32mdef\u001b[0m \u001b[0mto_latlon\u001b[0m\u001b[0;34m(\u001b[0m\u001b[0mself\u001b[0m\u001b[0;34m,\u001b[0m \u001b[0measting\u001b[0m\u001b[0;34m,\u001b[0m \u001b[0mnorthing\u001b[0m\u001b[0;34m,\u001b[0m \u001b[0mepsg\u001b[0m\u001b[0;34m=\u001b[0m\u001b[0;32mNone\u001b[0m\u001b[0;34m,\u001b[0m \u001b[0mfips\u001b[0m\u001b[0;34m=\u001b[0m\u001b[0;32mNone\u001b[0m\u001b[0;34m,\u001b[0m \u001b[0mabbr\u001b[0m\u001b[0;34m=\u001b[0m\u001b[0;32mNone\u001b[0m\u001b[0;34m)\u001b[0m\u001b[0;34m:\u001b[0m\u001b[0;34m\u001b[0m\u001b[0;34m\u001b[0m\u001b[0m\n\u001b[0;32m--> 145\u001b[0;31m         \u001b[0mlon\u001b[0m\u001b[0;34m,\u001b[0m \u001b[0mlat\u001b[0m \u001b[0;34m=\u001b[0m \u001b[0mself\u001b[0m\u001b[0;34m.\u001b[0m\u001b[0mto_lonlat\u001b[0m\u001b[0;34m(\u001b[0m\u001b[0measting\u001b[0m\u001b[0;34m,\u001b[0m \u001b[0mnorthing\u001b[0m\u001b[0;34m,\u001b[0m \u001b[0mepsg\u001b[0m\u001b[0;34m,\u001b[0m \u001b[0mfips\u001b[0m\u001b[0;34m,\u001b[0m \u001b[0mabbr\u001b[0m\u001b[0;34m)\u001b[0m\u001b[0;34m\u001b[0m\u001b[0;34m\u001b[0m\u001b[0m\n\u001b[0m\u001b[1;32m    146\u001b[0m         \u001b[0;32mreturn\u001b[0m \u001b[0mlat\u001b[0m\u001b[0;34m,\u001b[0m \u001b[0mlon\u001b[0m\u001b[0;34m\u001b[0m\u001b[0;34m\u001b[0m\u001b[0m\n\u001b[1;32m    147\u001b[0m \u001b[0;34m\u001b[0m\u001b[0m\n",
      "\u001b[0;32m~/opt/anaconda3/envs/for_ds/lib/python3.8/site-packages/stateplane/stateplane.py\u001b[0m in \u001b[0;36mto_lonlat\u001b[0;34m(self, easting, northing, epsg, fips, abbr)\u001b[0m\n\u001b[1;32m    152\u001b[0m         \u001b[0;32mif\u001b[0m \u001b[0;32mnot\u001b[0m \u001b[0many\u001b[0m\u001b[0;34m(\u001b[0m\u001b[0;34m(\u001b[0m\u001b[0mepsg\u001b[0m\u001b[0;34m,\u001b[0m \u001b[0mfips\u001b[0m\u001b[0;34m,\u001b[0m \u001b[0mabbr\u001b[0m\u001b[0;34m)\u001b[0m\u001b[0;34m)\u001b[0m\u001b[0;34m:\u001b[0m\u001b[0;34m\u001b[0m\u001b[0;34m\u001b[0m\u001b[0m\n\u001b[1;32m    153\u001b[0m             \u001b[0;32mraise\u001b[0m \u001b[0mValueError\u001b[0m\u001b[0;34m(\u001b[0m\u001b[0;34m\"to long/lat calculations require a epsg, fips or abbr argument.\"\u001b[0m\u001b[0;34m)\u001b[0m\u001b[0;34m\u001b[0m\u001b[0;34m\u001b[0m\u001b[0m\n\u001b[0;32m--> 154\u001b[0;31m         \u001b[0;32mreturn\u001b[0m \u001b[0mself\u001b[0m\u001b[0;34m.\u001b[0m\u001b[0m_convert\u001b[0m\u001b[0;34m(\u001b[0m\u001b[0measting\u001b[0m\u001b[0;34m,\u001b[0m \u001b[0mnorthing\u001b[0m\u001b[0;34m,\u001b[0m \u001b[0;32mTrue\u001b[0m\u001b[0;34m,\u001b[0m \u001b[0mepsg\u001b[0m\u001b[0;34m,\u001b[0m \u001b[0mfips\u001b[0m\u001b[0;34m,\u001b[0m \u001b[0mabbr\u001b[0m\u001b[0;34m)\u001b[0m\u001b[0;34m\u001b[0m\u001b[0;34m\u001b[0m\u001b[0m\n\u001b[0m",
      "\u001b[0;32m~/opt/anaconda3/envs/for_ds/lib/python3.8/site-packages/stateplane/stateplane.py\u001b[0m in \u001b[0;36m_convert\u001b[0;34m(self, x, y, inverse, epsg, fips, abbr, statefp)\u001b[0m\n\u001b[1;32m    129\u001b[0m \u001b[0;34m\u001b[0m\u001b[0m\n\u001b[1;32m    130\u001b[0m         \u001b[0;32mif\u001b[0m \u001b[0mepsg\u001b[0m \u001b[0;32mnot\u001b[0m \u001b[0;32min\u001b[0m \u001b[0mself\u001b[0m\u001b[0;34m.\u001b[0m\u001b[0mprojections\u001b[0m\u001b[0;34m:\u001b[0m\u001b[0;34m\u001b[0m\u001b[0;34m\u001b[0m\u001b[0m\n\u001b[0;32m--> 131\u001b[0;31m             \u001b[0mself\u001b[0m\u001b[0;34m.\u001b[0m\u001b[0mprojections\u001b[0m\u001b[0;34m[\u001b[0m\u001b[0mepsg\u001b[0m\u001b[0;34m]\u001b[0m \u001b[0;34m=\u001b[0m \u001b[0mpyproj\u001b[0m\u001b[0;34m.\u001b[0m\u001b[0mProj\u001b[0m\u001b[0;34m(\u001b[0m\u001b[0;34m'EPSG:'\u001b[0m \u001b[0;34m+\u001b[0m \u001b[0mepsg\u001b[0m\u001b[0;34m)\u001b[0m\u001b[0;34m\u001b[0m\u001b[0;34m\u001b[0m\u001b[0m\n\u001b[0m\u001b[1;32m    132\u001b[0m \u001b[0;34m\u001b[0m\u001b[0m\n\u001b[1;32m    133\u001b[0m         \u001b[0mprojection\u001b[0m \u001b[0;34m=\u001b[0m \u001b[0mself\u001b[0m\u001b[0;34m.\u001b[0m\u001b[0mprojections\u001b[0m\u001b[0;34m[\u001b[0m\u001b[0mepsg\u001b[0m\u001b[0;34m]\u001b[0m\u001b[0;34m\u001b[0m\u001b[0;34m\u001b[0m\u001b[0m\n",
      "\u001b[0;31mTypeError\u001b[0m: can only concatenate str (not \"int\") to str"
     ]
    }
   ],
   "source": [
    "stateplane.to_latlon(easting = sqf['STOP_LOCATION_X'][0], northing=sqf['STOP_LOCATION_Y'][0], epsg=4326)"
   ]
  },
  {
   "cell_type": "code",
   "execution_count": 31,
   "metadata": {},
   "outputs": [
    {
     "data": {
      "text/html": [
       "<div>\n",
       "<style scoped>\n",
       "    .dataframe tbody tr th:only-of-type {\n",
       "        vertical-align: middle;\n",
       "    }\n",
       "\n",
       "    .dataframe tbody tr th {\n",
       "        vertical-align: top;\n",
       "    }\n",
       "\n",
       "    .dataframe thead th {\n",
       "        text-align: right;\n",
       "    }\n",
       "</style>\n",
       "<table border=\"1\" class=\"dataframe\">\n",
       "  <thead>\n",
       "    <tr style=\"text-align: right;\">\n",
       "      <th></th>\n",
       "      <th>STOP_ID_ANONY</th>\n",
       "      <th>STOP_FRISK_DATE</th>\n",
       "      <th>STOP_FRISK_TIME</th>\n",
       "      <th>YEAR2</th>\n",
       "      <th>MONTH2</th>\n",
       "      <th>DAY2</th>\n",
       "      <th>STOP_WAS_INITIATED</th>\n",
       "      <th>RECORD_STATUS_CODE</th>\n",
       "      <th>ISSUING_OFFICER_RANK</th>\n",
       "      <th>ISSUING_OFFICER_COMMAND_CODE</th>\n",
       "      <th>...</th>\n",
       "      <th>STOP_LOCATION_PRECINCT</th>\n",
       "      <th>STOP_LOCATION_SECTOR_CODE</th>\n",
       "      <th>STOP_LOCATION_APARTMENT</th>\n",
       "      <th>STOP_LOCATION_FULL_ADDRESS</th>\n",
       "      <th>STOP_LOCATION_STREET_NAME</th>\n",
       "      <th>STOP_LOCATION_X</th>\n",
       "      <th>STOP_LOCATION_Y</th>\n",
       "      <th>STOP_LOCATION_ZIP_CODE</th>\n",
       "      <th>STOP_LOCATION_PATROL_BORO_NAME</th>\n",
       "      <th>STOP_LOCATION_BORO_NAME</th>\n",
       "    </tr>\n",
       "  </thead>\n",
       "  <tbody>\n",
       "    <tr>\n",
       "      <th>0</th>\n",
       "      <td>1</td>\n",
       "      <td>2019-01-02</td>\n",
       "      <td>14:30:00</td>\n",
       "      <td>2019</td>\n",
       "      <td>January</td>\n",
       "      <td>Wednesday</td>\n",
       "      <td>Based on C/W on Scene</td>\n",
       "      <td>APP</td>\n",
       "      <td>POM</td>\n",
       "      <td>1</td>\n",
       "      <td>...</td>\n",
       "      <td>1</td>\n",
       "      <td>C</td>\n",
       "      <td>(null)</td>\n",
       "      <td>230 VESEY STREET</td>\n",
       "      <td>VESEY STREET</td>\n",
       "      <td>979667</td>\n",
       "      <td>199737</td>\n",
       "      <td>(null)</td>\n",
       "      <td>PBMS</td>\n",
       "      <td>MANHATTAN</td>\n",
       "    </tr>\n",
       "    <tr>\n",
       "      <th>1</th>\n",
       "      <td>2</td>\n",
       "      <td>2019-01-08</td>\n",
       "      <td>02:30:00</td>\n",
       "      <td>2019</td>\n",
       "      <td>January</td>\n",
       "      <td>Tuesday</td>\n",
       "      <td>Based on Self Initiated</td>\n",
       "      <td>APP</td>\n",
       "      <td>POM</td>\n",
       "      <td>1</td>\n",
       "      <td>...</td>\n",
       "      <td>1</td>\n",
       "      <td>C</td>\n",
       "      <td>(null)</td>\n",
       "      <td>9 WHITE STREET</td>\n",
       "      <td>WHITE STREET</td>\n",
       "      <td>982650</td>\n",
       "      <td>201326</td>\n",
       "      <td>(null)</td>\n",
       "      <td>PBMS</td>\n",
       "      <td>MANHATTAN</td>\n",
       "    </tr>\n",
       "    <tr>\n",
       "      <th>2</th>\n",
       "      <td>3</td>\n",
       "      <td>2019-01-12</td>\n",
       "      <td>16:54:00</td>\n",
       "      <td>2019</td>\n",
       "      <td>January</td>\n",
       "      <td>Saturday</td>\n",
       "      <td>Based on Radio Run</td>\n",
       "      <td>APP</td>\n",
       "      <td>POM</td>\n",
       "      <td>1</td>\n",
       "      <td>...</td>\n",
       "      <td>1</td>\n",
       "      <td>D</td>\n",
       "      <td>(null)</td>\n",
       "      <td>131 SPRING STREET</td>\n",
       "      <td>SPRING STREET</td>\n",
       "      <td>984063</td>\n",
       "      <td>203033</td>\n",
       "      <td>(null)</td>\n",
       "      <td>PBMS</td>\n",
       "      <td>MANHATTAN</td>\n",
       "    </tr>\n",
       "    <tr>\n",
       "      <th>3</th>\n",
       "      <td>4</td>\n",
       "      <td>2019-01-14</td>\n",
       "      <td>21:21:00</td>\n",
       "      <td>2019</td>\n",
       "      <td>January</td>\n",
       "      <td>Monday</td>\n",
       "      <td>Based on Radio Run</td>\n",
       "      <td>APP</td>\n",
       "      <td>POM</td>\n",
       "      <td>1</td>\n",
       "      <td>...</td>\n",
       "      <td>1</td>\n",
       "      <td>(</td>\n",
       "      <td>(null)</td>\n",
       "      <td>GRAND STREET &amp;&amp; 6TH AVE</td>\n",
       "      <td>GRAND STREET</td>\n",
       "      <td>982848</td>\n",
       "      <td>202677</td>\n",
       "      <td>(null)</td>\n",
       "      <td>PBMS</td>\n",
       "      <td>MANHATTAN</td>\n",
       "    </tr>\n",
       "    <tr>\n",
       "      <th>4</th>\n",
       "      <td>5</td>\n",
       "      <td>2019-01-15</td>\n",
       "      <td>18:50:00</td>\n",
       "      <td>2019</td>\n",
       "      <td>January</td>\n",
       "      <td>Tuesday</td>\n",
       "      <td>Based on Radio Run</td>\n",
       "      <td>APP</td>\n",
       "      <td>POM</td>\n",
       "      <td>1</td>\n",
       "      <td>...</td>\n",
       "      <td>1</td>\n",
       "      <td>D</td>\n",
       "      <td>(null)</td>\n",
       "      <td>32 THOMPSON STREET</td>\n",
       "      <td>THOMPSON STREET</td>\n",
       "      <td>983100</td>\n",
       "      <td>202705</td>\n",
       "      <td>(null)</td>\n",
       "      <td>PBMS</td>\n",
       "      <td>MANHATTAN</td>\n",
       "    </tr>\n",
       "  </tbody>\n",
       "</table>\n",
       "<p>5 rows × 83 columns</p>\n",
       "</div>"
      ],
      "text/plain": [
       "   STOP_ID_ANONY STOP_FRISK_DATE STOP_FRISK_TIME  YEAR2   MONTH2       DAY2  \\\n",
       "0              1      2019-01-02        14:30:00   2019  January  Wednesday   \n",
       "1              2      2019-01-08        02:30:00   2019  January    Tuesday   \n",
       "2              3      2019-01-12        16:54:00   2019  January   Saturday   \n",
       "3              4      2019-01-14        21:21:00   2019  January     Monday   \n",
       "4              5      2019-01-15        18:50:00   2019  January    Tuesday   \n",
       "\n",
       "        STOP_WAS_INITIATED RECORD_STATUS_CODE ISSUING_OFFICER_RANK  \\\n",
       "0    Based on C/W on Scene                APP                  POM   \n",
       "1  Based on Self Initiated                APP                  POM   \n",
       "2       Based on Radio Run                APP                  POM   \n",
       "3       Based on Radio Run                APP                  POM   \n",
       "4       Based on Radio Run                APP                  POM   \n",
       "\n",
       "   ISSUING_OFFICER_COMMAND_CODE  ... STOP_LOCATION_PRECINCT  \\\n",
       "0                             1  ...                      1   \n",
       "1                             1  ...                      1   \n",
       "2                             1  ...                      1   \n",
       "3                             1  ...                      1   \n",
       "4                             1  ...                      1   \n",
       "\n",
       "   STOP_LOCATION_SECTOR_CODE STOP_LOCATION_APARTMENT  \\\n",
       "0                          C                  (null)   \n",
       "1                          C                  (null)   \n",
       "2                          D                  (null)   \n",
       "3                          (                  (null)   \n",
       "4                          D                  (null)   \n",
       "\n",
       "  STOP_LOCATION_FULL_ADDRESS STOP_LOCATION_STREET_NAME  STOP_LOCATION_X  \\\n",
       "0           230 VESEY STREET              VESEY STREET           979667   \n",
       "1             9 WHITE STREET              WHITE STREET           982650   \n",
       "2          131 SPRING STREET             SPRING STREET           984063   \n",
       "3    GRAND STREET && 6TH AVE              GRAND STREET           982848   \n",
       "4         32 THOMPSON STREET           THOMPSON STREET           983100   \n",
       "\n",
       "  STOP_LOCATION_Y  STOP_LOCATION_ZIP_CODE STOP_LOCATION_PATROL_BORO_NAME  \\\n",
       "0          199737                  (null)                           PBMS   \n",
       "1          201326                  (null)                           PBMS   \n",
       "2          203033                  (null)                           PBMS   \n",
       "3          202677                  (null)                           PBMS   \n",
       "4          202705                  (null)                           PBMS   \n",
       "\n",
       "  STOP_LOCATION_BORO_NAME  \n",
       "0               MANHATTAN  \n",
       "1               MANHATTAN  \n",
       "2               MANHATTAN  \n",
       "3               MANHATTAN  \n",
       "4               MANHATTAN  \n",
       "\n",
       "[5 rows x 83 columns]"
      ]
     },
     "execution_count": 31,
     "metadata": {},
     "output_type": "execute_result"
    }
   ],
   "source": [
    "sqf.head()"
   ]
  },
  {
   "cell_type": "code",
   "execution_count": 32,
   "metadata": {},
   "outputs": [
    {
     "data": {
      "text/plain": [
       "['STOP_ID_ANONY',\n",
       " 'STOP_FRISK_DATE',\n",
       " 'STOP_FRISK_TIME',\n",
       " 'YEAR2',\n",
       " 'MONTH2',\n",
       " 'DAY2',\n",
       " 'STOP_WAS_INITIATED',\n",
       " 'RECORD_STATUS_CODE',\n",
       " 'ISSUING_OFFICER_RANK',\n",
       " 'ISSUING_OFFICER_COMMAND_CODE',\n",
       " 'SUPERVISING_OFFICER_RANK',\n",
       " 'SUPERVISING_OFFICER_COMMAND_CODE',\n",
       " 'LOCATION_IN_OUT_CODE',\n",
       " 'JURISDICTION_CODE',\n",
       " 'JURISDICTION_DESCRIPTION',\n",
       " 'OBSERVED_DURATION_MINUTES',\n",
       " 'SUSPECTED_CRIME_DESCRIPTION',\n",
       " 'STOP_DURATION_MINUTES',\n",
       " 'OFFICER_EXPLAINED_STOP_FLAG',\n",
       " 'OFFICER_NOT_EXPLAINED_STOP_DESCRIPTION',\n",
       " 'OTHER_PERSON_STOPPED_FLAG',\n",
       " 'SUSPECT_ARRESTED_FLAG',\n",
       " 'SUSPECT_ARREST_OFFENSE',\n",
       " 'SUMMONS_ISSUED_FLAG',\n",
       " 'SUMMONS_OFFENSE_DESCRIPTION',\n",
       " 'OFFICER_IN_UNIFORM_FLAG',\n",
       " 'ID_CARD_IDENTIFIES_OFFICER_FLAG',\n",
       " 'SHIELD_IDENTIFIES_OFFICER_FLAG',\n",
       " 'VERBAL_IDENTIFIES_OFFICER_FLAG',\n",
       " 'FRISKED_FLAG',\n",
       " 'SEARCHED_FLAG',\n",
       " 'ASK_FOR_CONSENT_FLG',\n",
       " 'CONSENT_GIVEN_FLG',\n",
       " 'OTHER_CONTRABAND_FLAG',\n",
       " 'FIREARM_FLAG',\n",
       " 'KNIFE_CUTTER_FLAG',\n",
       " 'OTHER_WEAPON_FLAG',\n",
       " 'WEAPON_FOUND_FLAG',\n",
       " 'PHYSICAL_FORCE_CEW_FLAG',\n",
       " 'PHYSICAL_FORCE_DRAW_POINT_FIREARM_FLAG',\n",
       " 'PHYSICAL_FORCE_HANDCUFF_SUSPECT_FLAG',\n",
       " 'PHYSICAL_FORCE_OC_SPRAY_USED_FLAG',\n",
       " 'PHYSICAL_FORCE_OTHER_FLAG',\n",
       " 'PHYSICAL_FORCE_RESTRAINT_USED_FLAG',\n",
       " 'PHYSICAL_FORCE_VERBAL_INSTRUCTION_FLAG',\n",
       " 'PHYSICAL_FORCE_WEAPON_IMPACT_FLAG',\n",
       " 'BACKROUND_CIRCUMSTANCES_VIOLENT_CRIME_FLAG',\n",
       " 'BACKROUND_CIRCUMSTANCES_SUSPECT_KNOWN_TO_CARRY_WEAPON_FLAG',\n",
       " 'SUSPECTS_ACTIONS_CASING_FLAG',\n",
       " 'SUSPECTS_ACTIONS_CONCEALED_POSSESSION_WEAPON_FLAG',\n",
       " 'SUSPECTS_ACTIONS_DECRIPTION_FLAG',\n",
       " 'SUSPECTS_ACTIONS_DRUG_TRANSACTIONS_FLAG',\n",
       " 'SUSPECTS_ACTIONS_IDENTIFY_CRIME_PATTERN_FLAG',\n",
       " 'SUSPECTS_ACTIONS_LOOKOUT_FLAG',\n",
       " 'SUSPECTS_ACTIONS_OTHER_FLAG',\n",
       " 'SUSPECTS_ACTIONS_PROXIMITY_TO_SCENE_FLAG',\n",
       " 'SEARCH_BASIS_ADMISSION_FLAG',\n",
       " 'SEARCH_BASIS_CONSENT_FLAG',\n",
       " 'SEARCH_BASIS_HARD_OBJECT_FLAG',\n",
       " 'SEARCH_BASIS_INCIDENTAL_TO_ARREST_FLAG',\n",
       " 'SEARCH_BASIS_OTHER_FLAG',\n",
       " 'SEARCH_BASIS_OUTLINE_FLAG',\n",
       " 'DEMEANOR_CODE',\n",
       " 'DEMEANOR_OF_PERSON_STOPPED',\n",
       " 'SUSPECT_REPORTED_AGE',\n",
       " 'SUSPECT_SEX',\n",
       " 'SUSPECT_RACE_DESCRIPTION',\n",
       " 'SUSPECT_HEIGHT',\n",
       " 'SUSPECT_WEIGHT',\n",
       " 'SUSPECT_BODY_BUILD_TYPE',\n",
       " 'SUSPECT_EYE_COLOR',\n",
       " 'SUSPECT_HAIR_COLOR',\n",
       " 'SUSPECT_OTHER_DESCRIPTION',\n",
       " 'STOP_LOCATION_PRECINCT',\n",
       " 'STOP_LOCATION_SECTOR_CODE',\n",
       " 'STOP_LOCATION_APARTMENT',\n",
       " 'STOP_LOCATION_FULL_ADDRESS',\n",
       " 'STOP_LOCATION_STREET_NAME',\n",
       " 'STOP_LOCATION_X',\n",
       " 'STOP_LOCATION_Y',\n",
       " 'STOP_LOCATION_ZIP_CODE',\n",
       " 'STOP_LOCATION_PATROL_BORO_NAME',\n",
       " 'STOP_LOCATION_BORO_NAME']"
      ]
     },
     "execution_count": 32,
     "metadata": {},
     "output_type": "execute_result"
    }
   ],
   "source": [
    "[i for i in sqf.columns]"
   ]
  },
  {
   "cell_type": "code",
   "execution_count": 24,
   "metadata": {},
   "outputs": [
    {
     "data": {
      "text/plain": [
       "100.0091"
      ]
     },
     "execution_count": 24,
     "metadata": {},
     "output_type": "execute_result"
    }
   ],
   "source": [
    "x = sqf['xcoord'][0]\n",
    "float(x)/10000"
   ]
  },
  {
   "cell_type": "code",
   "execution_count": 25,
   "metadata": {},
   "outputs": [
    {
     "data": {
      "text/plain": [
       "15.6314"
      ]
     },
     "execution_count": 25,
     "metadata": {},
     "output_type": "execute_result"
    }
   ],
   "source": [
    "y = sqf['ycoord'][0].strip()\n",
    "float(y)/10000"
   ]
  },
  {
   "cell_type": "code",
   "execution_count": 29,
   "metadata": {},
   "outputs": [
    {
     "data": {
      "text/html": [
       "<div style=\"width:100%;\"><div style=\"position:relative;width:100%;height:0;padding-bottom:60%;\"><span style=\"color:#565656\">Make this Notebook Trusted to load map: File -> Trust Notebook</span><iframe src=\"about:blank\" style=\"position:absolute;width:100%;height:100%;left:0;top:0;border:none !important;\" data-html=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 onload=\"this.contentDocument.open();this.contentDocument.write(atob(this.getAttribute('data-html')));this.contentDocument.close();\" allowfullscreen webkitallowfullscreen mozallowfullscreen></iframe></div></div>"
      ],
      "text/plain": [
       "<folium.folium.Map at 0x7fda61dac700>"
      ]
     },
     "execution_count": 29,
     "metadata": {},
     "output_type": "execute_result"
    }
   ],
   "source": [
    "folium.Map(location = [-float(x)/10000, -float(y)/10000])"
   ]
  },
  {
   "cell_type": "code",
   "execution_count": null,
   "metadata": {},
   "outputs": [],
   "source": []
  }
 ],
 "metadata": {
  "kernelspec": {
   "display_name": "Python 3",
   "language": "python",
   "name": "python3"
  },
  "language_info": {
   "codemirror_mode": {
    "name": "ipython",
    "version": 3
   },
   "file_extension": ".py",
   "mimetype": "text/x-python",
   "name": "python",
   "nbconvert_exporter": "python",
   "pygments_lexer": "ipython3",
   "version": "3.8.2"
  },
  "widgets": {
   "application/vnd.jupyter.widget-state+json": {
    "state": {},
    "version_major": 2,
    "version_minor": 0
   }
  }
 },
 "nbformat": 4,
 "nbformat_minor": 4
}
