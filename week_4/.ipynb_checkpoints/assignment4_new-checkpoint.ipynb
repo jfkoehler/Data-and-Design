{
 "cells": [
  {
   "cell_type": "markdown",
   "metadata": {},
   "source": [
    "### NYPD Arrest Exploration\n",
    "\n",
    "**Objectives**:\n",
    "\n",
    "- Explore data about arrests in New York City.  \n",
    "- Build maps using latitude and longitude\n",
    "- Build a Heatmap to explore certain crime hotspots\n",
    "\n",
    "The Data:\n",
    "\n",
    "![](images/nypd_data.png)"
   ]
  },
  {
   "cell_type": "markdown",
   "metadata": {},
   "source": [
    "Our data comes to us from the New York City Open Data Portal.  For more information about the data please visit the portal and examine the description and footnotes [here](https://data.cityofnewyork.us/Public-Safety/NYPD-Arrest-Data-Year-to-Date-/uip8-fykc)."
   ]
  },
  {
   "cell_type": "markdown",
   "metadata": {},
   "source": [
    "### Loading our data"
   ]
  },
  {
   "cell_type": "code",
   "execution_count": 12,
   "metadata": {},
   "outputs": [],
   "source": [
    "import pandas as pd"
   ]
  },
  {
   "cell_type": "code",
   "execution_count": 13,
   "metadata": {},
   "outputs": [],
   "source": [
    "arrest_df = pd.read_csv('data/NYPD_Arrest_Data__Year_to_Date_.csv')"
   ]
  },
  {
   "cell_type": "code",
   "execution_count": 14,
   "metadata": {},
   "outputs": [
    {
     "data": {
      "text/html": [
       "<div>\n",
       "<style scoped>\n",
       "    .dataframe tbody tr th:only-of-type {\n",
       "        vertical-align: middle;\n",
       "    }\n",
       "\n",
       "    .dataframe tbody tr th {\n",
       "        vertical-align: top;\n",
       "    }\n",
       "\n",
       "    .dataframe thead th {\n",
       "        text-align: right;\n",
       "    }\n",
       "</style>\n",
       "<table border=\"1\" class=\"dataframe\">\n",
       "  <thead>\n",
       "    <tr style=\"text-align: right;\">\n",
       "      <th></th>\n",
       "      <th>ARREST_KEY</th>\n",
       "      <th>ARREST_DATE</th>\n",
       "      <th>PD_CD</th>\n",
       "      <th>PD_DESC</th>\n",
       "      <th>KY_CD</th>\n",
       "      <th>OFNS_DESC</th>\n",
       "      <th>LAW_CODE</th>\n",
       "      <th>LAW_CAT_CD</th>\n",
       "      <th>ARREST_BORO</th>\n",
       "      <th>ARREST_PRECINCT</th>\n",
       "      <th>JURISDICTION_CODE</th>\n",
       "      <th>AGE_GROUP</th>\n",
       "      <th>PERP_SEX</th>\n",
       "      <th>PERP_RACE</th>\n",
       "      <th>X_COORD_CD</th>\n",
       "      <th>Y_COORD_CD</th>\n",
       "      <th>Latitude</th>\n",
       "      <th>Longitude</th>\n",
       "      <th>New Georeferenced Column</th>\n",
       "    </tr>\n",
       "  </thead>\n",
       "  <tbody>\n",
       "    <tr>\n",
       "      <th>0</th>\n",
       "      <td>214353678</td>\n",
       "      <td>06/18/2020</td>\n",
       "      <td>109.0</td>\n",
       "      <td>ASSAULT 2,1,UNCLASSIFIED</td>\n",
       "      <td>106.0</td>\n",
       "      <td>FELONY ASSAULT</td>\n",
       "      <td>PL 1200501</td>\n",
       "      <td>F</td>\n",
       "      <td>K</td>\n",
       "      <td>68</td>\n",
       "      <td>0</td>\n",
       "      <td>18-24</td>\n",
       "      <td>F</td>\n",
       "      <td>WHITE HISPANIC</td>\n",
       "      <td>978016</td>\n",
       "      <td>172087</td>\n",
       "      <td>40.639022</td>\n",
       "      <td>-74.022464</td>\n",
       "      <td>POINT (-74.02246352399999 40.63902167200007)</td>\n",
       "    </tr>\n",
       "    <tr>\n",
       "      <th>1</th>\n",
       "      <td>210517846</td>\n",
       "      <td>03/04/2020</td>\n",
       "      <td>969.0</td>\n",
       "      <td>TRAFFIC,UNCLASSIFIED INFRACTIO</td>\n",
       "      <td>881.0</td>\n",
       "      <td>OTHER TRAFFIC INFRACTION</td>\n",
       "      <td>VTL051101A</td>\n",
       "      <td>M</td>\n",
       "      <td>M</td>\n",
       "      <td>10</td>\n",
       "      <td>0</td>\n",
       "      <td>25-44</td>\n",
       "      <td>M</td>\n",
       "      <td>BLACK HISPANIC</td>\n",
       "      <td>984331</td>\n",
       "      <td>209268</td>\n",
       "      <td>40.741077</td>\n",
       "      <td>-73.999709</td>\n",
       "      <td>POINT (-73.99970914499994 40.74107715900004)</td>\n",
       "    </tr>\n",
       "    <tr>\n",
       "      <th>2</th>\n",
       "      <td>209190141</td>\n",
       "      <td>02/07/2020</td>\n",
       "      <td>569.0</td>\n",
       "      <td>MARIJUANA, SALE 4 &amp; 5</td>\n",
       "      <td>235.0</td>\n",
       "      <td>DANGEROUS DRUGS</td>\n",
       "      <td>PL 2214000</td>\n",
       "      <td>M</td>\n",
       "      <td>K</td>\n",
       "      <td>70</td>\n",
       "      <td>0</td>\n",
       "      <td>25-44</td>\n",
       "      <td>M</td>\n",
       "      <td>WHITE</td>\n",
       "      <td>996733</td>\n",
       "      <td>162284</td>\n",
       "      <td>40.612108</td>\n",
       "      <td>-73.955041</td>\n",
       "      <td>POINT (-73.95504136299996 40.61210789100005)</td>\n",
       "    </tr>\n",
       "    <tr>\n",
       "      <th>3</th>\n",
       "      <td>208085722</td>\n",
       "      <td>01/17/2020</td>\n",
       "      <td>639.0</td>\n",
       "      <td>AGGRAVATED HARASSMENT 2</td>\n",
       "      <td>361.0</td>\n",
       "      <td>OFF. AGNST PUB ORD SENSBLTY &amp;</td>\n",
       "      <td>PL 2403002</td>\n",
       "      <td>M</td>\n",
       "      <td>Q</td>\n",
       "      <td>101</td>\n",
       "      <td>0</td>\n",
       "      <td>45-64</td>\n",
       "      <td>M</td>\n",
       "      <td>BLACK HISPANIC</td>\n",
       "      <td>1053650</td>\n",
       "      <td>158969</td>\n",
       "      <td>40.602746</td>\n",
       "      <td>-73.750078</td>\n",
       "      <td>POINT (-73.75007786499998 40.60274595100003)</td>\n",
       "    </tr>\n",
       "    <tr>\n",
       "      <th>4</th>\n",
       "      <td>214476276</td>\n",
       "      <td>06/23/2020</td>\n",
       "      <td>105.0</td>\n",
       "      <td>STRANGULATION 1ST</td>\n",
       "      <td>106.0</td>\n",
       "      <td>FELONY ASSAULT</td>\n",
       "      <td>PL 1211200</td>\n",
       "      <td>F</td>\n",
       "      <td>B</td>\n",
       "      <td>48</td>\n",
       "      <td>0</td>\n",
       "      <td>25-44</td>\n",
       "      <td>M</td>\n",
       "      <td>WHITE HISPANIC</td>\n",
       "      <td>1011779</td>\n",
       "      <td>246746</td>\n",
       "      <td>40.843901</td>\n",
       "      <td>-73.900505</td>\n",
       "      <td>POINT (-73.90050463199998 40.84390125500005)</td>\n",
       "    </tr>\n",
       "  </tbody>\n",
       "</table>\n",
       "</div>"
      ],
      "text/plain": [
       "   ARREST_KEY ARREST_DATE  PD_CD                         PD_DESC  KY_CD  \\\n",
       "0   214353678  06/18/2020  109.0        ASSAULT 2,1,UNCLASSIFIED  106.0   \n",
       "1   210517846  03/04/2020  969.0  TRAFFIC,UNCLASSIFIED INFRACTIO  881.0   \n",
       "2   209190141  02/07/2020  569.0           MARIJUANA, SALE 4 & 5  235.0   \n",
       "3   208085722  01/17/2020  639.0         AGGRAVATED HARASSMENT 2  361.0   \n",
       "4   214476276  06/23/2020  105.0               STRANGULATION 1ST  106.0   \n",
       "\n",
       "                       OFNS_DESC    LAW_CODE LAW_CAT_CD ARREST_BORO  \\\n",
       "0                 FELONY ASSAULT  PL 1200501          F           K   \n",
       "1       OTHER TRAFFIC INFRACTION  VTL051101A          M           M   \n",
       "2                DANGEROUS DRUGS  PL 2214000          M           K   \n",
       "3  OFF. AGNST PUB ORD SENSBLTY &  PL 2403002          M           Q   \n",
       "4                 FELONY ASSAULT  PL 1211200          F           B   \n",
       "\n",
       "   ARREST_PRECINCT  JURISDICTION_CODE AGE_GROUP PERP_SEX       PERP_RACE  \\\n",
       "0               68                  0     18-24        F  WHITE HISPANIC   \n",
       "1               10                  0     25-44        M  BLACK HISPANIC   \n",
       "2               70                  0     25-44        M           WHITE   \n",
       "3              101                  0     45-64        M  BLACK HISPANIC   \n",
       "4               48                  0     25-44        M  WHITE HISPANIC   \n",
       "\n",
       "   X_COORD_CD  Y_COORD_CD   Latitude  Longitude  \\\n",
       "0      978016      172087  40.639022 -74.022464   \n",
       "1      984331      209268  40.741077 -73.999709   \n",
       "2      996733      162284  40.612108 -73.955041   \n",
       "3     1053650      158969  40.602746 -73.750078   \n",
       "4     1011779      246746  40.843901 -73.900505   \n",
       "\n",
       "                       New Georeferenced Column  \n",
       "0  POINT (-74.02246352399999 40.63902167200007)  \n",
       "1  POINT (-73.99970914499994 40.74107715900004)  \n",
       "2  POINT (-73.95504136299996 40.61210789100005)  \n",
       "3  POINT (-73.75007786499998 40.60274595100003)  \n",
       "4  POINT (-73.90050463199998 40.84390125500005)  "
      ]
     },
     "execution_count": 14,
     "metadata": {},
     "output_type": "execute_result"
    }
   ],
   "source": [
    "arrest_df.head()"
   ]
  },
  {
   "cell_type": "code",
   "execution_count": 4,
   "metadata": {},
   "outputs": [
    {
     "name": "stdout",
     "output_type": "stream",
     "text": [
      "<class 'pandas.core.frame.DataFrame'>\n",
      "RangeIndex: 74784 entries, 0 to 74783\n",
      "Data columns (total 19 columns):\n",
      " #   Column                    Non-Null Count  Dtype  \n",
      "---  ------                    --------------  -----  \n",
      " 0   ARREST_KEY                74784 non-null  int64  \n",
      " 1   ARREST_DATE               74784 non-null  object \n",
      " 2   PD_CD                     74776 non-null  float64\n",
      " 3   PD_DESC                   74724 non-null  object \n",
      " 4   KY_CD                     74724 non-null  float64\n",
      " 5   OFNS_DESC                 74724 non-null  object \n",
      " 6   LAW_CODE                  74784 non-null  object \n",
      " 7   LAW_CAT_CD                74192 non-null  object \n",
      " 8   ARREST_BORO               74784 non-null  object \n",
      " 9   ARREST_PRECINCT           74784 non-null  int64  \n",
      " 10  JURISDICTION_CODE         74784 non-null  int64  \n",
      " 11  AGE_GROUP                 74784 non-null  object \n",
      " 12  PERP_SEX                  74784 non-null  object \n",
      " 13  PERP_RACE                 74784 non-null  object \n",
      " 14  X_COORD_CD                74784 non-null  int64  \n",
      " 15  Y_COORD_CD                74784 non-null  int64  \n",
      " 16  Latitude                  74784 non-null  float64\n",
      " 17  Longitude                 74784 non-null  float64\n",
      " 18  New Georeferenced Column  74784 non-null  object \n",
      "dtypes: float64(4), int64(5), object(10)\n",
      "memory usage: 10.8+ MB\n"
     ]
    }
   ],
   "source": [
    "arrest_df.info()"
   ]
  },
  {
   "cell_type": "markdown",
   "metadata": {},
   "source": [
    "Let's take a look at the different kinds of offenses in the `OFNS_DESC` column."
   ]
  },
  {
   "cell_type": "code",
   "execution_count": 5,
   "metadata": {},
   "outputs": [
    {
     "data": {
      "text/plain": [
       "ASSAULT 3 & RELATED OFFENSES            12118\n",
       "FELONY ASSAULT                           6658\n",
       "PETIT LARCENY                            6512\n",
       "DANGEROUS DRUGS                          6293\n",
       "MISCELLANEOUS PENAL LAW                  4705\n",
       "ROBBERY                                  4151\n",
       "CRIMINAL MISCHIEF & RELATED OF           4135\n",
       "BURGLARY                                 3461\n",
       "GRAND LARCENY                            3371\n",
       "VEHICLE AND TRAFFIC LAWS                 3092\n",
       "DANGEROUS WEAPONS                        3070\n",
       "OFFENSES AGAINST PUBLIC ADMINI           2879\n",
       "OFF. AGNST PUB ORD SENSBLTY &            1586\n",
       "SEX CRIMES                               1381\n",
       "INTOXICATED & IMPAIRED DRIVING           1276\n",
       "POSSESSION OF STOLEN PROPERTY            1026\n",
       "FORGERY                                   970\n",
       "CRIMINAL TRESPASS                         948\n",
       "OTHER TRAFFIC INFRACTION                  674\n",
       "OTHER OFFENSES RELATED TO THEF            611\n",
       "GRAND LARCENY OF MOTOR VEHICLE            609\n",
       "FOR OTHER AUTHORITIES                     592\n",
       "MURDER & NON-NEGL. MANSLAUGHTE            517\n",
       "OFFENSES INVOLVING FRAUD                  407\n",
       "OFFENSES AGAINST THE PERSON               380\n",
       "BURGLAR'S TOOLS                           352\n",
       "NYS LAWS-UNCLASSIFIED FELONY              327\n",
       "OTHER STATE LAWS (NON PENAL LA            319\n",
       "RAPE                                      287\n",
       "UNAUTHORIZED USE OF A VEHICLE             287\n",
       "FRAUDS                                    257\n",
       "OTHER STATE LAWS                          244\n",
       "GAMBLING                                  205\n",
       "PROSTITUTION & RELATED OFFENSES           181\n",
       "INTOXICATED/IMPAIRED DRIVING              179\n",
       "ADMINISTRATIVE CODE                        92\n",
       "ALCOHOLIC BEVERAGE CONTROL LAW             88\n",
       "THEFT OF SERVICES                          86\n",
       "THEFT-FRAUD                                83\n",
       "OFFENSES AGAINST PUBLIC SAFETY             57\n",
       "ARSON                                      44\n",
       "OFFENSES RELATED TO CHILDREN               26\n",
       "DISORDERLY CONDUCT                         26\n",
       "FRAUDULENT ACCOSTING                       24\n",
       "KIDNAPPING & RELATED OFFENSES              22\n",
       "HARRASSMENT 2                              19\n",
       "MOVING INFRACTIONS                         16\n",
       "ENDAN WELFARE INCOMP                       14\n",
       "CHILD ABANDONMENT/NON SUPPORT              13\n",
       "LOITERING/GAMBLING (CARDS, DIC             12\n",
       "HOMICIDE-NEGLIGENT,UNCLASSIFIE             11\n",
       "JOSTLING                                    9\n",
       "AGRICULTURE & MRKTS LAW-UNCLASSIFIED        8\n",
       "ANTICIPATORY OFFENSES                       4\n",
       "OTHER STATE LAWS (NON PENAL LAW)            4\n",
       "HOMICIDE-NEGLIGENT-VEHICLE                  3\n",
       "ESCAPE 3                                    2\n",
       "NEW YORK CITY HEALTH CODE                   1\n",
       "Name: OFNS_DESC, dtype: int64"
      ]
     },
     "execution_count": 5,
     "metadata": {},
     "output_type": "execute_result"
    }
   ],
   "source": [
    "arrest_df['OFNS_DESC'].value_counts()"
   ]
  },
  {
   "cell_type": "markdown",
   "metadata": {},
   "source": [
    "### Problem\n",
    "\n",
    "Select the rows where the `OFNS_DESC` is `DANGEROUS WEAPONS`.  Assign this data to the variable `dangerous_weapons` below.  "
   ]
  },
  {
   "cell_type": "code",
   "execution_count": 7,
   "metadata": {},
   "outputs": [],
   "source": [
    "dangerous_weapons = arrest_df.loc[arrest_df['OFNS_DESC'] == 'DANGEROUS WEAPONS']"
   ]
  },
  {
   "cell_type": "code",
   "execution_count": 9,
   "metadata": {},
   "outputs": [
    {
     "data": {
      "text/html": [
       "<div>\n",
       "<style scoped>\n",
       "    .dataframe tbody tr th:only-of-type {\n",
       "        vertical-align: middle;\n",
       "    }\n",
       "\n",
       "    .dataframe tbody tr th {\n",
       "        vertical-align: top;\n",
       "    }\n",
       "\n",
       "    .dataframe thead th {\n",
       "        text-align: right;\n",
       "    }\n",
       "</style>\n",
       "<table border=\"1\" class=\"dataframe\">\n",
       "  <thead>\n",
       "    <tr style=\"text-align: right;\">\n",
       "      <th></th>\n",
       "      <th>ARREST_KEY</th>\n",
       "      <th>ARREST_DATE</th>\n",
       "      <th>PD_CD</th>\n",
       "      <th>PD_DESC</th>\n",
       "      <th>KY_CD</th>\n",
       "      <th>OFNS_DESC</th>\n",
       "      <th>LAW_CODE</th>\n",
       "      <th>LAW_CAT_CD</th>\n",
       "      <th>ARREST_BORO</th>\n",
       "      <th>ARREST_PRECINCT</th>\n",
       "      <th>JURISDICTION_CODE</th>\n",
       "      <th>AGE_GROUP</th>\n",
       "      <th>PERP_SEX</th>\n",
       "      <th>PERP_RACE</th>\n",
       "      <th>X_COORD_CD</th>\n",
       "      <th>Y_COORD_CD</th>\n",
       "      <th>Latitude</th>\n",
       "      <th>Longitude</th>\n",
       "      <th>New Georeferenced Column</th>\n",
       "    </tr>\n",
       "  </thead>\n",
       "  <tbody>\n",
       "    <tr>\n",
       "      <th>22</th>\n",
       "      <td>208815921</td>\n",
       "      <td>01/31/2020</td>\n",
       "      <td>782.0</td>\n",
       "      <td>WEAPONS, POSSESSION, ETC</td>\n",
       "      <td>236.0</td>\n",
       "      <td>DANGEROUS WEAPONS</td>\n",
       "      <td>PL 2650101</td>\n",
       "      <td>M</td>\n",
       "      <td>M</td>\n",
       "      <td>32</td>\n",
       "      <td>0</td>\n",
       "      <td>45-64</td>\n",
       "      <td>M</td>\n",
       "      <td>WHITE</td>\n",
       "      <td>1001406</td>\n",
       "      <td>241015</td>\n",
       "      <td>40.828198</td>\n",
       "      <td>-73.938010</td>\n",
       "      <td>POINT (-73.93800993799994 40.82819756300006)</td>\n",
       "    </tr>\n",
       "    <tr>\n",
       "      <th>41</th>\n",
       "      <td>210142201</td>\n",
       "      <td>02/26/2020</td>\n",
       "      <td>792.0</td>\n",
       "      <td>WEAPONS POSSESSION 1 &amp; 2</td>\n",
       "      <td>118.0</td>\n",
       "      <td>DANGEROUS WEAPONS</td>\n",
       "      <td>PL 265031B</td>\n",
       "      <td>F</td>\n",
       "      <td>K</td>\n",
       "      <td>75</td>\n",
       "      <td>0</td>\n",
       "      <td>18-24</td>\n",
       "      <td>F</td>\n",
       "      <td>WHITE</td>\n",
       "      <td>1014802</td>\n",
       "      <td>178928</td>\n",
       "      <td>40.657748</td>\n",
       "      <td>-73.889887</td>\n",
       "      <td>POINT (-73.88988685799995 40.65774823000004)</td>\n",
       "    </tr>\n",
       "  </tbody>\n",
       "</table>\n",
       "</div>"
      ],
      "text/plain": [
       "    ARREST_KEY ARREST_DATE  PD_CD                   PD_DESC  KY_CD  \\\n",
       "22   208815921  01/31/2020  782.0  WEAPONS, POSSESSION, ETC  236.0   \n",
       "41   210142201  02/26/2020  792.0  WEAPONS POSSESSION 1 & 2  118.0   \n",
       "\n",
       "            OFNS_DESC    LAW_CODE LAW_CAT_CD ARREST_BORO  ARREST_PRECINCT  \\\n",
       "22  DANGEROUS WEAPONS  PL 2650101          M           M               32   \n",
       "41  DANGEROUS WEAPONS  PL 265031B          F           K               75   \n",
       "\n",
       "    JURISDICTION_CODE AGE_GROUP PERP_SEX PERP_RACE  X_COORD_CD  Y_COORD_CD  \\\n",
       "22                  0     45-64        M     WHITE     1001406      241015   \n",
       "41                  0     18-24        F     WHITE     1014802      178928   \n",
       "\n",
       "     Latitude  Longitude                      New Georeferenced Column  \n",
       "22  40.828198 -73.938010  POINT (-73.93800993799994 40.82819756300006)  \n",
       "41  40.657748 -73.889887  POINT (-73.88988685799995 40.65774823000004)  "
      ]
     },
     "execution_count": 9,
     "metadata": {},
     "output_type": "execute_result"
    }
   ],
   "source": [
    "dangerous_weapons.head(2)"
   ]
  },
  {
   "cell_type": "markdown",
   "metadata": {},
   "source": [
    "### Problem\n",
    "\n",
    "What is the row id for the first row in the `'DANGEROUS WEAPONS'` data?"
   ]
  },
  {
   "cell_type": "code",
   "execution_count": null,
   "metadata": {},
   "outputs": [],
   "source": []
  },
  {
   "cell_type": "markdown",
   "metadata": {},
   "source": [
    "### Problem\n",
    "\n",
    "Make a map centered on the first `Latitude,Longitude` pair in the data."
   ]
  },
  {
   "cell_type": "code",
   "execution_count": 8,
   "metadata": {},
   "outputs": [],
   "source": [
    "import folium"
   ]
  },
  {
   "cell_type": "code",
   "execution_count": 10,
   "metadata": {},
   "outputs": [],
   "source": [
    "m = folium.Map([dangerous_weapons['Latitude'][22], dangerous_weapons['Longitude'][22]])"
   ]
  },
  {
   "cell_type": "code",
   "execution_count": 11,
   "metadata": {},
   "outputs": [
    {
     "data": {
      "text/html": [
       "<div style=\"width:100%;\"><div style=\"position:relative;width:100%;height:0;padding-bottom:60%;\"><span style=\"color:#565656\">Make this Notebook Trusted to load map: File -> Trust Notebook</span><iframe src=\"about:blank\" style=\"position:absolute;width:100%;height:100%;left:0;top:0;border:none !important;\" data-html=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 onload=\"this.contentDocument.open();this.contentDocument.write(atob(this.getAttribute('data-html')));this.contentDocument.close();\" allowfullscreen webkitallowfullscreen mozallowfullscreen></iframe></div></div>"
      ],
      "text/plain": [
       "<folium.folium.Map at 0x7f8a81a9a430>"
      ]
     },
     "execution_count": 11,
     "metadata": {},
     "output_type": "execute_result"
    }
   ],
   "source": [
    "m"
   ]
  },
  {
   "cell_type": "markdown",
   "metadata": {},
   "source": [
    "### Problem\n",
    "\n",
    "Make a second map using a different style and start the zoom at 14."
   ]
  },
  {
   "cell_type": "code",
   "execution_count": null,
   "metadata": {},
   "outputs": [],
   "source": []
  },
  {
   "cell_type": "markdown",
   "metadata": {},
   "source": [
    "### Problem\n",
    "\n",
    "Add a circle marker for the first row of our 'DANGEROUS WEAPONS' dataset.  Include a label that contains the `PD_DESC` and `ARREST_DATE`."
   ]
  },
  {
   "cell_type": "code",
   "execution_count": null,
   "metadata": {},
   "outputs": [],
   "source": []
  },
  {
   "cell_type": "markdown",
   "metadata": {},
   "source": [
    "### Problem\n",
    "\n",
    "Add markers for each arrest in our 'DANGEROUS WEAPONS' to the map, including the arrests `PD_DESC` and `ARREST_DATE`."
   ]
  },
  {
   "cell_type": "code",
   "execution_count": null,
   "metadata": {},
   "outputs": [],
   "source": []
  },
  {
   "cell_type": "markdown",
   "metadata": {},
   "source": [
    "### Problem\n",
    "\n",
    "Create a Heatmap of the 'DANGEROUS WEAPONS' data.  Do you see any patterns to where 'DANGEROUS WEAPONS' are occurring in the city?"
   ]
  },
  {
   "cell_type": "code",
   "execution_count": null,
   "metadata": {},
   "outputs": [],
   "source": []
  },
  {
   "cell_type": "markdown",
   "metadata": {},
   "source": [
    "### Problem\n",
    "\n",
    "Where do marijuana arrests occur in the city?  Are there any patterns to this?  Use a map to answer the question.\n",
    "\n",
    "**HINT**: `marijuana_df = arrest_df.loc[arrest_df['PD_DESC'].str.contains(\"MARIJUANA\") == True]`"
   ]
  },
  {
   "cell_type": "code",
   "execution_count": null,
   "metadata": {},
   "outputs": [],
   "source": []
  },
  {
   "cell_type": "code",
   "execution_count": null,
   "metadata": {},
   "outputs": [],
   "source": []
  },
  {
   "cell_type": "markdown",
   "metadata": {},
   "source": [
    "### Problem\n",
    "\n",
    "Make a map of the City's public recycling bins.  Are there any patterns here?  \n",
    "\n",
    "Get the data from here: \n",
    "https://data.cityofnewyork.us/Environment/Public-Recycling-Bins/sxx4-xhzg\n"
   ]
  },
  {
   "cell_type": "code",
   "execution_count": null,
   "metadata": {},
   "outputs": [],
   "source": []
  },
  {
   "cell_type": "code",
   "execution_count": null,
   "metadata": {},
   "outputs": [],
   "source": []
  },
  {
   "cell_type": "markdown",
   "metadata": {},
   "source": [
    "**BONUS**\n",
    "\n",
    "Can you make a HeatMap with Time to show some category of arrests through time?"
   ]
  },
  {
   "cell_type": "code",
   "execution_count": null,
   "metadata": {},
   "outputs": [],
   "source": []
  },
  {
   "cell_type": "code",
   "execution_count": null,
   "metadata": {},
   "outputs": [],
   "source": []
  }
 ],
 "metadata": {
  "kernelspec": {
   "display_name": "Python 3",
   "language": "python",
   "name": "python3"
  },
  "language_info": {
   "codemirror_mode": {
    "name": "ipython",
    "version": 3
   },
   "file_extension": ".py",
   "mimetype": "text/x-python",
   "name": "python",
   "nbconvert_exporter": "python",
   "pygments_lexer": "ipython3",
   "version": "3.8.2"
  }
 },
 "nbformat": 4,
 "nbformat_minor": 4
}
