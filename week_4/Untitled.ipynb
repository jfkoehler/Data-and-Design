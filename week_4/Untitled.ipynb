{
 "cells": [
  {
   "cell_type": "code",
   "execution_count": 1,
   "metadata": {},
   "outputs": [],
   "source": [
    "import pandas as pd"
   ]
  },
  {
   "cell_type": "code",
   "execution_count": 2,
   "metadata": {},
   "outputs": [],
   "source": [
    "import geopandas as gpd"
   ]
  },
  {
   "cell_type": "code",
   "execution_count": 3,
   "metadata": {},
   "outputs": [],
   "source": [
    "df = pd.read_csv('dec-land-acquisition-annual-reports-beginning-1990.csv')"
   ]
  },
  {
   "cell_type": "code",
   "execution_count": 4,
   "metadata": {},
   "outputs": [
    {
     "data": {
      "text/html": [
       "<div>\n",
       "<style scoped>\n",
       "    .dataframe tbody tr th:only-of-type {\n",
       "        vertical-align: middle;\n",
       "    }\n",
       "\n",
       "    .dataframe tbody tr th {\n",
       "        vertical-align: top;\n",
       "    }\n",
       "\n",
       "    .dataframe thead th {\n",
       "        text-align: right;\n",
       "    }\n",
       "</style>\n",
       "<table border=\"1\" class=\"dataframe\">\n",
       "  <thead>\n",
       "    <tr style=\"text-align: right;\">\n",
       "      <th></th>\n",
       "      <th>DEC Region</th>\n",
       "      <th>Land Acquisition Category</th>\n",
       "      <th>County</th>\n",
       "      <th>Project Number</th>\n",
       "      <th>Project Name (Alias)</th>\n",
       "      <th>Acres (Fee)</th>\n",
       "      <th>Acres (Conservation Easement)</th>\n",
       "      <th>Equivalent Stream Miles</th>\n",
       "      <th>Deed Vesting Date</th>\n",
       "    </tr>\n",
       "  </thead>\n",
       "  <tbody>\n",
       "    <tr>\n",
       "      <th>0</th>\n",
       "      <td>2</td>\n",
       "      <td>E-ESB</td>\n",
       "      <td>Richmond</td>\n",
       "      <td>7</td>\n",
       "      <td>Todt Hill</td>\n",
       "      <td>52.522</td>\n",
       "      <td>18.0</td>\n",
       "      <td>NaN</td>\n",
       "      <td>1990-01-04T00:00:00.000</td>\n",
       "    </tr>\n",
       "    <tr>\n",
       "      <th>1</th>\n",
       "      <td>4</td>\n",
       "      <td>Q-FWL</td>\n",
       "      <td>Columbia</td>\n",
       "      <td>32.02</td>\n",
       "      <td>Nutten Hook</td>\n",
       "      <td>0.000</td>\n",
       "      <td>NaN</td>\n",
       "      <td>NaN</td>\n",
       "      <td>1990-03-09T00:00:00.000</td>\n",
       "    </tr>\n",
       "    <tr>\n",
       "      <th>2</th>\n",
       "      <td>4</td>\n",
       "      <td>Q-FWL</td>\n",
       "      <td>Columbia</td>\n",
       "      <td>32.01</td>\n",
       "      <td>Nutten Hook</td>\n",
       "      <td>0.000</td>\n",
       "      <td>NaN</td>\n",
       "      <td>NaN</td>\n",
       "      <td>1990-03-09T00:00:00.000</td>\n",
       "    </tr>\n",
       "    <tr>\n",
       "      <th>3</th>\n",
       "      <td>4</td>\n",
       "      <td>Q-FWL</td>\n",
       "      <td>Columbia</td>\n",
       "      <td>32</td>\n",
       "      <td>Nutten Hook</td>\n",
       "      <td>0.000</td>\n",
       "      <td>NaN</td>\n",
       "      <td>NaN</td>\n",
       "      <td>1990-03-09T00:00:00.000</td>\n",
       "    </tr>\n",
       "    <tr>\n",
       "      <th>4</th>\n",
       "      <td>4</td>\n",
       "      <td>Q-FWL</td>\n",
       "      <td>Columbia</td>\n",
       "      <td>32.03</td>\n",
       "      <td>Nutten Hook</td>\n",
       "      <td>76.000</td>\n",
       "      <td>NaN</td>\n",
       "      <td>NaN</td>\n",
       "      <td>1990-03-09T00:00:00.000</td>\n",
       "    </tr>\n",
       "  </tbody>\n",
       "</table>\n",
       "</div>"
      ],
      "text/plain": [
       "   DEC Region Land Acquisition Category    County Project Number  \\\n",
       "0           2                     E-ESB  Richmond              7   \n",
       "1           4                     Q-FWL  Columbia          32.02   \n",
       "2           4                     Q-FWL  Columbia          32.01   \n",
       "3           4                     Q-FWL  Columbia             32   \n",
       "4           4                     Q-FWL  Columbia          32.03   \n",
       "\n",
       "  Project Name (Alias)  Acres (Fee)  Acres (Conservation Easement)  \\\n",
       "0            Todt Hill       52.522                           18.0   \n",
       "1          Nutten Hook        0.000                            NaN   \n",
       "2          Nutten Hook        0.000                            NaN   \n",
       "3          Nutten Hook        0.000                            NaN   \n",
       "4          Nutten Hook       76.000                            NaN   \n",
       "\n",
       "   Equivalent Stream Miles        Deed Vesting Date  \n",
       "0                      NaN  1990-01-04T00:00:00.000  \n",
       "1                      NaN  1990-03-09T00:00:00.000  \n",
       "2                      NaN  1990-03-09T00:00:00.000  \n",
       "3                      NaN  1990-03-09T00:00:00.000  \n",
       "4                      NaN  1990-03-09T00:00:00.000  "
      ]
     },
     "execution_count": 4,
     "metadata": {},
     "output_type": "execute_result"
    }
   ],
   "source": [
    "df.head()"
   ]
  },
  {
   "cell_type": "code",
   "execution_count": 7,
   "metadata": {},
   "outputs": [],
   "source": [
    "gdf = gpd.read_file('DEC_lands/DEClands.shp')"
   ]
  },
  {
   "cell_type": "code",
   "execution_count": 8,
   "metadata": {},
   "outputs": [
    {
     "data": {
      "text/html": [
       "<div>\n",
       "<style scoped>\n",
       "    .dataframe tbody tr th:only-of-type {\n",
       "        vertical-align: middle;\n",
       "    }\n",
       "\n",
       "    .dataframe tbody tr th {\n",
       "        vertical-align: top;\n",
       "    }\n",
       "\n",
       "    .dataframe thead th {\n",
       "        text-align: right;\n",
       "    }\n",
       "</style>\n",
       "<table border=\"1\" class=\"dataframe\">\n",
       "  <thead>\n",
       "    <tr style=\"text-align: right;\">\n",
       "      <th></th>\n",
       "      <th>OBJECTID</th>\n",
       "      <th>CATEGORY</th>\n",
       "      <th>UNIT</th>\n",
       "      <th>FACILITY</th>\n",
       "      <th>CLASS</th>\n",
       "      <th>UMP</th>\n",
       "      <th>DESCRIPTIO</th>\n",
       "      <th>REGION</th>\n",
       "      <th>COUNTY</th>\n",
       "      <th>URL</th>\n",
       "      <th>SOURCE</th>\n",
       "      <th>UPDATE_</th>\n",
       "      <th>OFFICE</th>\n",
       "      <th>ACRES</th>\n",
       "      <th>LANDS_UID</th>\n",
       "      <th>GREENCERT</th>\n",
       "      <th>UMPURL</th>\n",
       "      <th>SHAPE_AREA</th>\n",
       "      <th>SHAPE_LEN</th>\n",
       "      <th>geometry</th>\n",
       "    </tr>\n",
       "  </thead>\n",
       "  <tbody>\n",
       "    <tr>\n",
       "      <th>0</th>\n",
       "      <td>2743</td>\n",
       "      <td>FOREST PRESERVE</td>\n",
       "      <td>AFP</td>\n",
       "      <td>FULTON CHAIN WILD FOREST</td>\n",
       "      <td>WILD FOREST</td>\n",
       "      <td>FULTON CHAIN</td>\n",
       "      <td>None</td>\n",
       "      <td>6</td>\n",
       "      <td>HERKIMER</td>\n",
       "      <td>https://www.dec.ny.gov/lands/75305.html</td>\n",
       "      <td>DECRP</td>\n",
       "      <td>3/11</td>\n",
       "      <td>HERKIMER</td>\n",
       "      <td>739.361639</td>\n",
       "      <td>4239</td>\n",
       "      <td>N</td>\n",
       "      <td>http://www.dec.ny.gov/lands/51309.html</td>\n",
       "      <td>2.992090e+06</td>\n",
       "      <td>14445.172046</td>\n",
       "      <td>POLYGON ((502476.666 4842386.993, 502476.739 4...</td>\n",
       "    </tr>\n",
       "    <tr>\n",
       "      <th>1</th>\n",
       "      <td>2744</td>\n",
       "      <td>FOREST PRESERVE</td>\n",
       "      <td>AFP</td>\n",
       "      <td>FULTON CHAIN WILD FOREST</td>\n",
       "      <td>WILD FOREST</td>\n",
       "      <td>FULTON CHAIN</td>\n",
       "      <td>None</td>\n",
       "      <td>6</td>\n",
       "      <td>HERKIMER</td>\n",
       "      <td>https://www.dec.ny.gov/lands/75305.html</td>\n",
       "      <td>DECRP</td>\n",
       "      <td>11/08</td>\n",
       "      <td>HERKIMER</td>\n",
       "      <td>7.538903</td>\n",
       "      <td>3841</td>\n",
       "      <td>N</td>\n",
       "      <td>http://www.dec.ny.gov/lands/51309.html</td>\n",
       "      <td>3.050886e+04</td>\n",
       "      <td>870.836410</td>\n",
       "      <td>POLYGON ((502090.747 4840324.577, 502110.011 4...</td>\n",
       "    </tr>\n",
       "    <tr>\n",
       "      <th>2</th>\n",
       "      <td>2745</td>\n",
       "      <td>FOREST PRESERVE</td>\n",
       "      <td>AFP</td>\n",
       "      <td>INDEPENDENCE RIVER WILD FOREST</td>\n",
       "      <td>WILD FOREST</td>\n",
       "      <td>INDEPENDENCE RIVER</td>\n",
       "      <td>None</td>\n",
       "      <td>6</td>\n",
       "      <td>LEWIS</td>\n",
       "      <td>https://www.dec.ny.gov/lands/58192.html</td>\n",
       "      <td>DECRP</td>\n",
       "      <td>8/19</td>\n",
       "      <td>LOWVILLE</td>\n",
       "      <td>76519.233602</td>\n",
       "      <td>4253</td>\n",
       "      <td>N</td>\n",
       "      <td>https://www.dec.ny.gov/lands/22574.html</td>\n",
       "      <td>3.096624e+08</td>\n",
       "      <td>270633.583850</td>\n",
       "      <td>POLYGON ((508503.626 4864992.965, 509092.576 4...</td>\n",
       "    </tr>\n",
       "    <tr>\n",
       "      <th>3</th>\n",
       "      <td>2746</td>\n",
       "      <td>FOREST PRESERVE</td>\n",
       "      <td>AFP</td>\n",
       "      <td>INDEPENDENCE RIVER WILD FOREST</td>\n",
       "      <td>WILD FOREST</td>\n",
       "      <td>INDEPENDENCE RIVER</td>\n",
       "      <td>None</td>\n",
       "      <td>6</td>\n",
       "      <td>LEWIS</td>\n",
       "      <td>https://www.dec.ny.gov/lands/58192.html</td>\n",
       "      <td>DECRP</td>\n",
       "      <td>3/11</td>\n",
       "      <td>LOWVILLE</td>\n",
       "      <td>223.803334</td>\n",
       "      <td>4252</td>\n",
       "      <td>N</td>\n",
       "      <td>https://www.dec.ny.gov/lands/22574.html</td>\n",
       "      <td>9.057000e+05</td>\n",
       "      <td>5609.447134</td>\n",
       "      <td>POLYGON ((490114.810 4859403.501, 490142.561 4...</td>\n",
       "    </tr>\n",
       "    <tr>\n",
       "      <th>4</th>\n",
       "      <td>2747</td>\n",
       "      <td>FOREST PRESERVE</td>\n",
       "      <td>AFP</td>\n",
       "      <td>INDEPENDENCE RIVER WILD FOREST</td>\n",
       "      <td>WILD FOREST</td>\n",
       "      <td>INDEPENDENCE RIVER</td>\n",
       "      <td>None</td>\n",
       "      <td>6</td>\n",
       "      <td>LEWIS</td>\n",
       "      <td>https://www.dec.ny.gov/lands/58192.html</td>\n",
       "      <td>DECRP</td>\n",
       "      <td>3/11</td>\n",
       "      <td>LOWVILLE</td>\n",
       "      <td>114.466837</td>\n",
       "      <td>4019</td>\n",
       "      <td>N</td>\n",
       "      <td>https://www.dec.ny.gov/lands/22574.html</td>\n",
       "      <td>4.632309e+05</td>\n",
       "      <td>2723.724659</td>\n",
       "      <td>POLYGON ((481679.514 4853407.042, 481072.554 4...</td>\n",
       "    </tr>\n",
       "  </tbody>\n",
       "</table>\n",
       "</div>"
      ],
      "text/plain": [
       "   OBJECTID         CATEGORY UNIT                        FACILITY  \\\n",
       "0      2743  FOREST PRESERVE  AFP        FULTON CHAIN WILD FOREST   \n",
       "1      2744  FOREST PRESERVE  AFP        FULTON CHAIN WILD FOREST   \n",
       "2      2745  FOREST PRESERVE  AFP  INDEPENDENCE RIVER WILD FOREST   \n",
       "3      2746  FOREST PRESERVE  AFP  INDEPENDENCE RIVER WILD FOREST   \n",
       "4      2747  FOREST PRESERVE  AFP  INDEPENDENCE RIVER WILD FOREST   \n",
       "\n",
       "         CLASS                 UMP DESCRIPTIO  REGION    COUNTY  \\\n",
       "0  WILD FOREST        FULTON CHAIN       None       6  HERKIMER   \n",
       "1  WILD FOREST        FULTON CHAIN       None       6  HERKIMER   \n",
       "2  WILD FOREST  INDEPENDENCE RIVER       None       6     LEWIS   \n",
       "3  WILD FOREST  INDEPENDENCE RIVER       None       6     LEWIS   \n",
       "4  WILD FOREST  INDEPENDENCE RIVER       None       6     LEWIS   \n",
       "\n",
       "                                       URL SOURCE UPDATE_    OFFICE  \\\n",
       "0  https://www.dec.ny.gov/lands/75305.html  DECRP    3/11  HERKIMER   \n",
       "1  https://www.dec.ny.gov/lands/75305.html  DECRP   11/08  HERKIMER   \n",
       "2  https://www.dec.ny.gov/lands/58192.html  DECRP    8/19  LOWVILLE   \n",
       "3  https://www.dec.ny.gov/lands/58192.html  DECRP    3/11  LOWVILLE   \n",
       "4  https://www.dec.ny.gov/lands/58192.html  DECRP    3/11  LOWVILLE   \n",
       "\n",
       "          ACRES  LANDS_UID GREENCERT                                   UMPURL  \\\n",
       "0    739.361639       4239         N   http://www.dec.ny.gov/lands/51309.html   \n",
       "1      7.538903       3841         N   http://www.dec.ny.gov/lands/51309.html   \n",
       "2  76519.233602       4253         N  https://www.dec.ny.gov/lands/22574.html   \n",
       "3    223.803334       4252         N  https://www.dec.ny.gov/lands/22574.html   \n",
       "4    114.466837       4019         N  https://www.dec.ny.gov/lands/22574.html   \n",
       "\n",
       "     SHAPE_AREA      SHAPE_LEN  \\\n",
       "0  2.992090e+06   14445.172046   \n",
       "1  3.050886e+04     870.836410   \n",
       "2  3.096624e+08  270633.583850   \n",
       "3  9.057000e+05    5609.447134   \n",
       "4  4.632309e+05    2723.724659   \n",
       "\n",
       "                                            geometry  \n",
       "0  POLYGON ((502476.666 4842386.993, 502476.739 4...  \n",
       "1  POLYGON ((502090.747 4840324.577, 502110.011 4...  \n",
       "2  POLYGON ((508503.626 4864992.965, 509092.576 4...  \n",
       "3  POLYGON ((490114.810 4859403.501, 490142.561 4...  \n",
       "4  POLYGON ((481679.514 4853407.042, 481072.554 4...  "
      ]
     },
     "execution_count": 8,
     "metadata": {},
     "output_type": "execute_result"
    }
   ],
   "source": [
    "gdf.head()"
   ]
  },
  {
   "cell_type": "code",
   "execution_count": 10,
   "metadata": {},
   "outputs": [],
   "source": [
    "data = gdf.loc[:, [\"CLASS\", \"COUNTY\", \"geometry\"]].copy()"
   ]
  },
  {
   "cell_type": "code",
   "execution_count": 11,
   "metadata": {},
   "outputs": [
    {
     "data": {
      "text/plain": [
       "WILD FOREST                   963\n",
       "INTENSIVE USE                 107\n",
       "PRIMITIVE                      63\n",
       "WILDERNESS                     52\n",
       "UNCLASSIFIED                   13\n",
       "HISTORIC                        5\n",
       "PRIMITIVE BICYCLE CORRIDOR      4\n",
       "CANOE AREA                      1\n",
       "Name: CLASS, dtype: int64"
      ]
     },
     "execution_count": 11,
     "metadata": {},
     "output_type": "execute_result"
    }
   ],
   "source": [
    "data['CLASS'].value_counts()"
   ]
  },
  {
   "cell_type": "code",
   "execution_count": 12,
   "metadata": {},
   "outputs": [
    {
     "data": {
      "text/html": [
       "<div>\n",
       "<style scoped>\n",
       "    .dataframe tbody tr th:only-of-type {\n",
       "        vertical-align: middle;\n",
       "    }\n",
       "\n",
       "    .dataframe tbody tr th {\n",
       "        vertical-align: top;\n",
       "    }\n",
       "\n",
       "    .dataframe thead th {\n",
       "        text-align: right;\n",
       "    }\n",
       "</style>\n",
       "<table border=\"1\" class=\"dataframe\">\n",
       "  <thead>\n",
       "    <tr style=\"text-align: right;\">\n",
       "      <th></th>\n",
       "      <th>CLASS</th>\n",
       "      <th>COUNTY</th>\n",
       "      <th>geometry</th>\n",
       "    </tr>\n",
       "  </thead>\n",
       "  <tbody>\n",
       "    <tr>\n",
       "      <th>0</th>\n",
       "      <td>WILD FOREST</td>\n",
       "      <td>HERKIMER</td>\n",
       "      <td>POLYGON ((502476.666 4842386.993, 502476.739 4...</td>\n",
       "    </tr>\n",
       "    <tr>\n",
       "      <th>1</th>\n",
       "      <td>WILD FOREST</td>\n",
       "      <td>HERKIMER</td>\n",
       "      <td>POLYGON ((502090.747 4840324.577, 502110.011 4...</td>\n",
       "    </tr>\n",
       "    <tr>\n",
       "      <th>2</th>\n",
       "      <td>WILD FOREST</td>\n",
       "      <td>LEWIS</td>\n",
       "      <td>POLYGON ((508503.626 4864992.965, 509092.576 4...</td>\n",
       "    </tr>\n",
       "    <tr>\n",
       "      <th>3</th>\n",
       "      <td>WILD FOREST</td>\n",
       "      <td>LEWIS</td>\n",
       "      <td>POLYGON ((490114.810 4859403.501, 490142.561 4...</td>\n",
       "    </tr>\n",
       "    <tr>\n",
       "      <th>4</th>\n",
       "      <td>WILD FOREST</td>\n",
       "      <td>LEWIS</td>\n",
       "      <td>POLYGON ((481679.514 4853407.042, 481072.554 4...</td>\n",
       "    </tr>\n",
       "  </tbody>\n",
       "</table>\n",
       "</div>"
      ],
      "text/plain": [
       "         CLASS    COUNTY                                           geometry\n",
       "0  WILD FOREST  HERKIMER  POLYGON ((502476.666 4842386.993, 502476.739 4...\n",
       "1  WILD FOREST  HERKIMER  POLYGON ((502090.747 4840324.577, 502110.011 4...\n",
       "2  WILD FOREST     LEWIS  POLYGON ((508503.626 4864992.965, 509092.576 4...\n",
       "3  WILD FOREST     LEWIS  POLYGON ((490114.810 4859403.501, 490142.561 4...\n",
       "4  WILD FOREST     LEWIS  POLYGON ((481679.514 4853407.042, 481072.554 4..."
      ]
     },
     "execution_count": 12,
     "metadata": {},
     "output_type": "execute_result"
    }
   ],
   "source": [
    "# Select lands that fall under the \"WILD FOREST\" or \"WILDERNESS\" category\n",
    "wild_lands = data.loc[data.CLASS.isin(['WILD FOREST', 'WILDERNESS'])].copy()\n",
    "wild_lands.head()"
   ]
  },
  {
   "cell_type": "code",
   "execution_count": 15,
   "metadata": {},
   "outputs": [],
   "source": [
    "#!pip install descartes"
   ]
  },
  {
   "cell_type": "code",
   "execution_count": 16,
   "metadata": {},
   "outputs": [
    {
     "data": {
      "text/plain": [
       "<AxesSubplot:>"
      ]
     },
     "execution_count": 16,
     "metadata": {},
     "output_type": "execute_result"
    },
    {
     "data": {
      "image/png": "[encoded data removed]",
      "text/plain": [
       "<Figure size 432x288 with 1 Axes>"
      ]
     },
     "metadata": {
      "needs_background": "light"
     },
     "output_type": "display_data"
    }
   ],
   "source": [
    "wild_lands.plot()"
   ]
  },
  {
   "cell_type": "code",
   "execution_count": 40,
   "metadata": {},
   "outputs": [],
   "source": [
    "watersheds = gpd.read_file('DEC_lands/aa_aas_watersheds.shp')"
   ]
  },
  {
   "cell_type": "code",
   "execution_count": 41,
   "metadata": {},
   "outputs": [
    {
     "data": {
      "text/html": [
       "<div>\n",
       "<style scoped>\n",
       "    .dataframe tbody tr th:only-of-type {\n",
       "        vertical-align: middle;\n",
       "    }\n",
       "\n",
       "    .dataframe tbody tr th {\n",
       "        vertical-align: top;\n",
       "    }\n",
       "\n",
       "    .dataframe thead th {\n",
       "        text-align: right;\n",
       "    }\n",
       "</style>\n",
       "<table border=\"1\" class=\"dataframe\">\n",
       "  <thead>\n",
       "    <tr style=\"text-align: right;\">\n",
       "      <th></th>\n",
       "      <th>OBJECTID</th>\n",
       "      <th>NYBASINS_</th>\n",
       "      <th>NYBASINS_I</th>\n",
       "      <th>AREA_MI</th>\n",
       "      <th>SHAPE_AREA</th>\n",
       "      <th>SHAPE_LEN</th>\n",
       "      <th>geometry</th>\n",
       "    </tr>\n",
       "  </thead>\n",
       "  <tbody>\n",
       "    <tr>\n",
       "      <th>0</th>\n",
       "      <td>37</td>\n",
       "      <td>2142</td>\n",
       "      <td>2387</td>\n",
       "      <td>3.94111</td>\n",
       "      <td>1.020764e+07</td>\n",
       "      <td>14909.391055</td>\n",
       "      <td>POLYGON ((553476.455 4812123.342, 553478.642 4...</td>\n",
       "    </tr>\n",
       "    <tr>\n",
       "      <th>1</th>\n",
       "      <td>38</td>\n",
       "      <td>2144</td>\n",
       "      <td>2389</td>\n",
       "      <td>1.08294</td>\n",
       "      <td>2.804869e+06</td>\n",
       "      <td>7597.367796</td>\n",
       "      <td>POLYGON ((553857.280 4811934.340, 553885.281 4...</td>\n",
       "    </tr>\n",
       "    <tr>\n",
       "      <th>2</th>\n",
       "      <td>39</td>\n",
       "      <td>2154</td>\n",
       "      <td>2400</td>\n",
       "      <td>12.36730</td>\n",
       "      <td>3.203118e+07</td>\n",
       "      <td>34214.581886</td>\n",
       "      <td>POLYGON ((561554.985 4809739.818, 561569.110 4...</td>\n",
       "    </tr>\n",
       "    <tr>\n",
       "      <th>3</th>\n",
       "      <td>40</td>\n",
       "      <td>2169</td>\n",
       "      <td>2416</td>\n",
       "      <td>7.47654</td>\n",
       "      <td>1.936438e+07</td>\n",
       "      <td>32791.018281</td>\n",
       "      <td>POLYGON ((559998.200 4810766.306, 560040.701 4...</td>\n",
       "    </tr>\n",
       "    <tr>\n",
       "      <th>4</th>\n",
       "      <td>41</td>\n",
       "      <td>2171</td>\n",
       "      <td>2418</td>\n",
       "      <td>1.54621</td>\n",
       "      <td>4.004728e+06</td>\n",
       "      <td>11446.315849</td>\n",
       "      <td>POLYGON ((555945.728 4810704.331, 555956.228 4...</td>\n",
       "    </tr>\n",
       "  </tbody>\n",
       "</table>\n",
       "</div>"
      ],
      "text/plain": [
       "   OBJECTID  NYBASINS_  NYBASINS_I   AREA_MI    SHAPE_AREA     SHAPE_LEN  \\\n",
       "0        37       2142        2387   3.94111  1.020764e+07  14909.391055   \n",
       "1        38       2144        2389   1.08294  2.804869e+06   7597.367796   \n",
       "2        39       2154        2400  12.36730  3.203118e+07  34214.581886   \n",
       "3        40       2169        2416   7.47654  1.936438e+07  32791.018281   \n",
       "4        41       2171        2418   1.54621  4.004728e+06  11446.315849   \n",
       "\n",
       "                                            geometry  \n",
       "0  POLYGON ((553476.455 4812123.342, 553478.642 4...  \n",
       "1  POLYGON ((553857.280 4811934.340, 553885.281 4...  \n",
       "2  POLYGON ((561554.985 4809739.818, 561569.110 4...  \n",
       "3  POLYGON ((559998.200 4810766.306, 560040.701 4...  \n",
       "4  POLYGON ((555945.728 4810704.331, 555956.228 4...  "
      ]
     },
     "execution_count": 41,
     "metadata": {},
     "output_type": "execute_result"
    }
   ],
   "source": [
    "watersheds.head()"
   ]
  },
  {
   "cell_type": "code",
   "execution_count": 42,
   "metadata": {},
   "outputs": [
    {
     "data": {
      "text/plain": [
       "<AxesSubplot:>"
      ]
     },
     "execution_count": 42,
     "metadata": {},
     "output_type": "execute_result"
    },
    {
     "data": {
      "image/png": "[encoded data removed]",
      "text/plain": [
       "<Figure size 432x288 with 1 Axes>"
      ]
     },
     "metadata": {
      "needs_background": "light"
     },
     "output_type": "display_data"
    }
   ],
   "source": [
    "watersheds.plot()"
   ]
  },
  {
   "cell_type": "code",
   "execution_count": 37,
   "metadata": {},
   "outputs": [],
   "source": [
    "access = gpd.read_file('ambulances/AccessibleDestinations.shp')"
   ]
  },
  {
   "cell_type": "code",
   "execution_count": 38,
   "metadata": {},
   "outputs": [
    {
     "name": "stdout",
     "output_type": "stream",
     "text": [
      "<class 'geopandas.geodataframe.GeoDataFrame'>\n",
      "RangeIndex: 143 entries, 0 to 142\n",
      "Data columns (total 28 columns):\n",
      " #   Column      Non-Null Count  Dtype   \n",
      "---  ------      --------------  -----   \n",
      " 0   OBJECTID    143 non-null    int64   \n",
      " 1   REG         143 non-null    object  \n",
      " 2   COUNTY      143 non-null    object  \n",
      " 3   NAME        143 non-null    object  \n",
      " 4   FEATURE     143 non-null    object  \n",
      " 5   DESCRIPTN   45 non-null     object  \n",
      " 6   PRIMTVESET  143 non-null    object  \n",
      " 7   TENTSITE_S  143 non-null    object  \n",
      " 8   LEANTO      143 non-null    object  \n",
      " 9   PICNCTBL_S  143 non-null    object  \n",
      " 10  PRIVY       143 non-null    object  \n",
      " 11  TRAIL_S     143 non-null    object  \n",
      " 12  EQUESTR     143 non-null    object  \n",
      " 13  SCENICOVLK  143 non-null    object  \n",
      " 14  INTERPMTRL  143 non-null    object  \n",
      " 15  WLVIEWPLAT  143 non-null    object  \n",
      " 16  HUNTGBLIND  143 non-null    object  \n",
      " 17  FSHPIERETC  143 non-null    object  \n",
      " 18  BOATLAUNCH  143 non-null    object  \n",
      " 19  LOADNGDOCK  143 non-null    object  \n",
      " 20  HANDLAUNCH  143 non-null    object  \n",
      " 21  BEACH       143 non-null    object  \n",
      " 22  FLSHTOILET  143 non-null    object  \n",
      " 23  SHOWER      143 non-null    object  \n",
      " 24  URL         142 non-null    object  \n",
      " 25  FACILITY    137 non-null    object  \n",
      " 26  DIRECTIONS  25 non-null     object  \n",
      " 27  geometry    143 non-null    geometry\n",
      "dtypes: geometry(1), int64(1), object(26)\n",
      "memory usage: 31.4+ KB\n"
     ]
    }
   ],
   "source": [
    "access.info()"
   ]
  },
  {
   "cell_type": "code",
   "execution_count": 43,
   "metadata": {},
   "outputs": [
    {
     "data": {
      "text/plain": [
       "<AxesSubplot:>"
      ]
     },
     "execution_count": 43,
     "metadata": {},
     "output_type": "execute_result"
    },
    {
     "data": {
      "image/png": "[encoded data removed]",
      "text/plain": [
       "<Figure size 432x288 with 1 Axes>"
      ]
     },
     "metadata": {
      "needs_background": "light"
     },
     "output_type": "display_data"
    }
   ],
   "source": [
    "access.plot()"
   ]
  },
  {
   "cell_type": "markdown",
   "metadata": {},
   "source": [
    "Head over to the GIS.NY.GOV data page [here](http://gis.ny.gov/gisdata/inventories/byorgsector.cfm) and see if you can find a dataset of interest that allows you to generate an interesting map."
   ]
  },
  {
   "cell_type": "code",
   "execution_count": null,
   "metadata": {},
   "outputs": [],
   "source": []
  }
 ],
 "metadata": {
  "kernelspec": {
   "display_name": "Python 3",
   "language": "python",
   "name": "python3"
  },
  "language_info": {
   "codemirror_mode": {
    "name": "ipython",
    "version": 3
   },
   "file_extension": ".py",
   "mimetype": "text/x-python",
   "name": "python",
   "nbconvert_exporter": "python",
   "pygments_lexer": "ipython3",
   "version": "3.8.2"
  }
 },
 "nbformat": 4,
 "nbformat_minor": 4
}
